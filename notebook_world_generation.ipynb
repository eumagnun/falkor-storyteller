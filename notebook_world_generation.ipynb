{
 "cells": [
  {
   "cell_type": "markdown",
   "id": "5ac6b5d5-fce7-4fcb-b1a8-c490ea5c5325",
   "metadata": {
    "id": "173e06c5-4b07-4e3b-a67a-5c3e141beb2c"
   },
   "source": [
    "# World Generation Script"
   ]
  },
  {
   "cell_type": "markdown",
   "id": "276fd3f6",
   "metadata": {},
   "source": [
    "**Imports**"
   ]
  },
  {
   "cell_type": "code",
   "execution_count": 36,
   "id": "2dba779e",
   "metadata": {},
   "outputs": [],
   "source": [
    "import google.generativeai as genai\n",
    "from app_config import LLM_API_KEY,LLM_MODEL\n",
    "import json\n",
    "from datetime import datetime"
   ]
  },
  {
   "cell_type": "markdown",
   "id": "f61da3ef",
   "metadata": {},
   "source": [
    "**Prompts**"
   ]
  },
  {
   "cell_type": "code",
   "execution_count": null,
   "id": "946de221",
   "metadata": {},
   "outputs": [],
   "source": [
    "system_prompt = f\"\"\"\n",
    "    Seu trabalho é ajudar a criar mundos de fantasia interessantes que os jogadores adorariam explorar.\n",
    "   \n",
    "    Instruções:\n",
    "    Gere apenas texto simples, sem formatação.\n",
    "    Use uma linguagem simples e clara, sem floreios.\n",
    "    Cada descrição deve ter no máximo 3-5 frases.\n",
    "    O conteúdo deve ser gerado em português\n",
    "\"\"\"\n",
    "\n",
    "\n",
    "world_prompt = f\"\"\"\n",
    "Gere uma descrição criativa para um mundo de fantasia único.\n",
    "\n",
    "Saída do conteúdo no formato:\n",
    "Nome do Mundo: <NOME DO MUNDO>\n",
    "Descrição do Mundo: <DESCRIÇÃO DO MUNDO>\n",
    "\n",
    "Nome do Mundo:\"\"\"\n",
    "\n",
    "SCHEMA_KINGDOMS={\"type\":\"object\",\"properties\":{\"kingdoms\":{\"type\":\"array\",\"items\":{\"type\":\"object\",\"properties\":{\"name\":{\"type\":\"string\"},\"description\":{\"type\":\"string\"},\"world\":{\"type\":\"string\"}},\"required\":[\"name\",\"description\",\"world\"]}}},\"required\":[\"kingdoms\"]}\n",
    "\n",
    "SCHEMA_WORLD={\"type\":\"object\",\"properties\":{\"name\":{\"type\":\"string\"},\"description\":{\"type\":\"string\"}}}\n",
    "\n",
    "SCHEMA_TOWNS={\"type\":\"object\",\"properties\":{\"towns\":{\"type\":\"array\",\"items\":{\"type\":\"object\",\"properties\":{\"name\":{\"type\":\"string\"},\"description\":{\"type\":\"string\"},\"world\":{\"type\":\"string\"},\"kingdom\":{\"type\":\"string\"}},\"required\":[\"name\",\"description\",\"world\",\"kingdom\"]}}},\"required\":[\"towns\"]}\n",
    "\n",
    "SCHEMA_NPCS={\"type\":\"object\",\"properties\":{\"npcs\":{\"type\":\"array\",\"items\":{\"type\":\"object\",\"properties\":{\"name\":{\"type\":\"string\"},\"description\":{\"type\":\"string\"},\"world\":{\"type\":\"string\"},\"kingdom\":{\"type\":\"string\"},\"town\":{\"type\":\"string\"}},\"required\":[\"name\",\"description\",\"world\",\"kingdom\",\"town\"]}}},\"required\":[\"npcs\"]}\n",
    "\n"
   ]
  },
  {
   "cell_type": "markdown",
   "id": "bb0c7ba7",
   "metadata": {},
   "source": [
    "**Model Setup**"
   ]
  },
  {
   "cell_type": "code",
   "execution_count": null,
   "id": "7f928bb3-c6e4-4891-a154-3b3f225e8d21",
   "metadata": {
    "height": 217
   },
   "outputs": [],
   "source": [
    "\n",
    "def generate_config(schema):\n",
    "    return{\n",
    "        \"temperature\": 1,\n",
    "        \"top_p\": 0.95,\n",
    "        \"top_k\": 40,\n",
    "        \"max_output_tokens\": 8192,\n",
    "        \"response_mime_type\": \"application/json\",\n",
    "        \"response_schema\": schema\n",
    "        \n",
    "}\n",
    "\n",
    "genai.configure(api_key=LLM_API_KEY)\n",
    "\n",
    "client = genai.GenerativeModel(\n",
    "            model_name=LLM_MODEL,\n",
    "            system_instruction=system_prompt\n",
    "            )\n"
   ]
  },
  {
   "cell_type": "markdown",
   "id": "6f4e912c",
   "metadata": {},
   "source": [
    "## Generating a World"
   ]
  },
  {
   "cell_type": "code",
   "execution_count": null,
   "id": "e229526a",
   "metadata": {},
   "outputs": [],
   "source": [
    "output = client.generate_content(world_prompt,generation_config=generate_config(SCHEMA_WORLD))\n",
    "\n",
    "world =json.loads(output.text)\n",
    "print(world)"
   ]
  },
  {
   "cell_type": "markdown",
   "id": "5dbb561d-b115-4ba5-81f4-2ae3dfd4a71f",
   "metadata": {},
   "source": [
    "## Generating Kingdoms"
   ]
  },
  {
   "cell_type": "code",
   "execution_count": 8,
   "id": "9531806c-8b56-4fe5-bb15-d7c8d9b1cef8",
   "metadata": {
    "height": 319
   },
   "outputs": [],
   "source": [
    "kingdom_prompt = f\"\"\"\n",
    "Crie 3 reinos diferentes para um mundo de fantasia.\n",
    "Para cada reino, gere uma descrição com base no mundo em que ele está.\n",
    "Descreva líderes importantes, culturas e história do reino.\n",
    "\n",
    "Saída do conteúdo no formato:\n",
    "Nome do Reino 1: <NOME DO REINO>\n",
    "Descrição do Reino 1: <DESCRIÇÃO DO REINO>\n",
    "Nome do Reino 2: <NOME DO REINO>\n",
    "Descrição do Reino 2: <DESCRIÇÃO DO REINO>\n",
    "Nome do Reino 3: <NOME DO REINO>\n",
    "Descrição do Reino 3: <DESCRIÇÃO DO REINO>\n",
    "\n",
    "Nome do Mundo: {world['name']}\n",
    "Descrição do Mundo: {world['description']}\n",
    "\n",
    "Reino 1\"\"\"\n"
   ]
  },
  {
   "cell_type": "code",
   "execution_count": null,
   "id": "f7c87417-695c-443a-baa1-b354a9664d14",
   "metadata": {
    "height": 132
   },
   "outputs": [],
   "source": [
    "output = client.generate_content(kingdom_prompt,generation_config=generate_config(SCHEMA_KINGDOMS))\n",
    "kingdoms = json.loads(output.text)[\"kingdoms\"]"
   ]
  },
  {
   "cell_type": "markdown",
   "id": "e124ee9d-694b-4259-b38a-34ee106c5ca4",
   "metadata": {},
   "source": [
    "## Generating Towns"
   ]
  },
  {
   "cell_type": "code",
   "execution_count": 10,
   "id": "8f111ae4-dc95-49e1-ae15-4b5fd515988e",
   "metadata": {
    "height": 387
   },
   "outputs": [],
   "source": [
    "def get_town_prompt(world, kingdom):\n",
    "    return f\"\"\"\n",
    "            Crie 3 cidades diferentes para um reino e mundo de fantasia.\n",
    "            Descreva a região em que está localizada, lugares importantes da cidade\n",
    "            e sua história interessante.\n",
    "\n",
    "            Saída do conteúdo no formato:\n",
    "            Nome da Cidade 1: <NOME DA CIDADE>\n",
    "            Descrição da Cidade 1: <DESCRIÇÃO DA CIDADE>\n",
    "            Nome da Cidade 2: <NOME DA CIDADE>\n",
    "            Descrição da Cidade 2: <DESCRIÇÃO DA CIDADE>\n",
    "            Nome da Cidade 3: <NOME DA CIDADE>\n",
    "            Descrição da Cidade 3: <DESCRIÇÃO DA CIDADE>\n",
    "\n",
    "            Nome do Mundo: {world['name']}\n",
    "            Descrição do Mundo: {world['description']}\n",
    "\n",
    "            Nome do Reino: {kingdom['name']}\n",
    "            Descrição do Reino: {kingdom['description']}\n",
    "\n",
    "            Nome da Cidade 1:\"\"\"\n"
   ]
  },
  {
   "cell_type": "code",
   "execution_count": 11,
   "id": "90d892c0-b74e-4c75-bcf7-b055fa6712cd",
   "metadata": {
    "height": 489
   },
   "outputs": [],
   "source": [
    "def create_towns(world, kingdom):\n",
    "    print(kingdom['name'])\n",
    "    output = client.generate_content(get_town_prompt(world,kingdom),generation_config=generate_config(SCHEMA_TOWNS))\n",
    "    towns = json.loads(output.text)\n",
    "    kingdom[\"towns\"] = towns[\"towns\"]"
   ]
  },
  {
   "cell_type": "code",
   "execution_count": 12,
   "id": "b534d860-5b6b-43f8-9c60-e345fbaf1d9e",
   "metadata": {
    "height": 115
   },
   "outputs": [
    {
     "name": "stdout",
     "output_type": "stream",
     "text": [
      "Aethelgard\n",
      "Silvanus\n",
      "Mystwood\n"
     ]
    }
   ],
   "source": [
    "for kingdom in kingdoms:\n",
    "    create_towns(world, kingdom)  "
   ]
  },
  {
   "cell_type": "code",
   "execution_count": 13,
   "id": "711630a6",
   "metadata": {},
   "outputs": [
    {
     "data": {
      "text/plain": [
       "{'description': 'Lumina é uma cidade costeira, construída sobre penhascos rochosos e banhada pela luz solar constante. Seu porto movimentado é um centro de comércio e transporte, com navios vindos de todos os cantos de Solara.  O Farol de Cristal, um marco da cidade, guia os navios à noite e protege-os das tempestades. Seu maior evento anual é o Festival da Colheita, que celebra os abundantes frutos do mar e os campos cultivados.',\n",
       " 'kingdom': 'Aethelgard',\n",
       " 'name': 'Lumína',\n",
       " 'world': 'Aetheria'}"
      ]
     },
     "execution_count": 13,
     "metadata": {},
     "output_type": "execute_result"
    }
   ],
   "source": [
    "kingdoms[0]['towns'][0]"
   ]
  },
  {
   "cell_type": "code",
   "execution_count": 14,
   "id": "a11406fe",
   "metadata": {},
   "outputs": [
    {
     "name": "stdout",
     "output_type": "stream",
     "text": [
      "\n",
      "Town 1 Description: Lumina é uma cidade costeira, construída sobre penhascos rochosos e banhada pela luz solar constante. Seu porto movimentado é um centro de comércio e transporte, com navios vindos de todos os cantos de Solara.  O Farol de Cristal, um marco da cidade, guia os navios à noite e protege-os das tempestades. Seu maior evento anual é o Festival da Colheita, que celebra os abundantes frutos do mar e os campos cultivados.\n"
     ]
    }
   ],
   "source": [
    "town = kingdoms[0]['towns'][0]\n",
    "print(f'\\nTown 1 Description: \\\n",
    "{town[\"description\"]}')"
   ]
  },
  {
   "cell_type": "markdown",
   "id": "fff397b4-3ac6-4737-a232-8e68df1471b0",
   "metadata": {},
   "source": [
    "## Generating Non-Player Characters (NPC's)"
   ]
  },
  {
   "cell_type": "code",
   "execution_count": 16,
   "id": "f31adacd-a37a-4de9-9be5-aadf56fff988",
   "metadata": {
    "height": 421
   },
   "outputs": [],
   "source": [
    "def get_npc_prompt(world, kingdom, town): \n",
    "    return f\"\"\"\n",
    "            Crie 3 personagens diferentes com base no mundo, reino e cidade em que estão. Descreva a aparência e a profissão do personagem, bem como suas dores e desejos mais profundos.\n",
    "\n",
    "            Saída do conteúdo no formato:\n",
    "            Nome do Personagem 1: <NOME DO PERSONAGEM>\n",
    "            Descrição do Personagem 1: <DESCRIÇÃO DO PERSONAGEM>\n",
    "            Nome do Personagem 2: <NOME DO PERSONAGEM>\n",
    "            Descrição do Personagem 2: <DESCRIÇÃO DO PERSONAGEM>\n",
    "            Nome do Personagem 3: <NOME DO PERSONAGEM>\n",
    "            Descrição do Personagem 3: <DESCRIÇÃO DO PERSONAGEM>\n",
    "\n",
    "            Nome do Mundo: {world['name']}\n",
    "            Descrição do Mundo: {world['description']}\n",
    "\n",
    "            Nome do Reino: {kingdom['name']}\n",
    "            Descrição do Reino: {kingdom['description']}\n",
    "\n",
    "            Nome da Cidade: {town['name']}\n",
    "            Descrição da Cidade: {town['description']}\n",
    "            \n",
    "            Nome do Personagem 1:\"\"\""
   ]
  },
  {
   "cell_type": "code",
   "execution_count": 17,
   "id": "a301bf4d-1f99-475b-ae88-4a05e7537e3f",
   "metadata": {
    "height": 523
   },
   "outputs": [],
   "source": [
    "def create_npcs(world, kingdom, town):\n",
    "    print(f'\\nCreating characters for the town of: {town[\"name\"]}...')\n",
    "    output = client.generate_content(get_npc_prompt(world, kingdom, town),generation_config=generate_config(SCHEMA_NPCS))\n",
    "    npcs = json.loads(output.text)\n",
    "    town[\"npcs\"] = npcs['npcs']"
   ]
  },
  {
   "cell_type": "code",
   "execution_count": 18,
   "id": "36f0021d-41fa-4f3d-aed9-32d4fcb69dcb",
   "metadata": {
    "height": 98
   },
   "outputs": [
    {
     "name": "stdout",
     "output_type": "stream",
     "text": [
      "\n",
      "Creating characters for the town of: Lumína...\n",
      "\n",
      "Creating characters for the town of: Aethelgard...\n",
      "\n",
      "Creating characters for the town of: Solis...\n",
      "\n",
      "Creating characters for the town of: Lumina...\n",
      "\n",
      "Creating characters for the town of: Arboria...\n",
      "\n",
      "Creating characters for the town of: Solis...\n",
      "\n",
      "Creating characters for the town of: Elderwood...\n",
      "\n",
      "Creating characters for the town of: Oakhaven...\n",
      "\n",
      "Creating characters for the town of: Whisperwind...\n"
     ]
    }
   ],
   "source": [
    "for kingdom in kingdoms:\n",
    "    for town in kingdom['towns']:\n",
    "        create_npcs(world, kingdom, town)\n"
   ]
  },
  {
   "cell_type": "code",
   "execution_count": 22,
   "id": "e95294cc-ee92-430d-ad48-e95852784851",
   "metadata": {
    "height": 81
   },
   "outputs": [
    {
     "name": "stdout",
     "output_type": "stream",
     "text": [
      "\n",
      "NPC 1 in Whisperwind, Mystwood:\n",
      "Elara é uma jovem mulher de cabelos longos e negros como a noite, olhos verdes brilhantes e pele clara. Ela é uma curandeira habilidosa, conhecida por seu toque suave e sua capacidade de acalmar até mesmo as criaturas mais selvagens. Sua dor mais profunda é a perda de seus pais, assassinados durante um ataque a Whisperwind. Seu desejo é proteger seu povo e manter a paz em sua cidade.\n"
     ]
    }
   ],
   "source": [
    "npc = town['npcs'][0]\n",
    "\n",
    "print(f'\\nNPC 1 in {town[\"name\"]}, \\\n",
    "{kingdom[\"name\"]}:\\n{npc[\"description\"]}')"
   ]
  },
  {
   "cell_type": "markdown",
   "id": "764a433b-5e04-4980-a9b0-4d336113f072",
   "metadata": {},
   "source": [
    "## Save the World"
   ]
  },
  {
   "cell_type": "code",
   "execution_count": null,
   "id": "2dce3195-2c76-42da-9e49-c7a17e5ab08b",
   "metadata": {
    "height": 217
   },
   "outputs": [],
   "source": [
    "world[\"kingdoms\"]=kingdoms\n",
    "def save_world(world, filename):\n",
    "    with open(filename, 'w', encoding='utf8') as f:\n",
    "        json.dump(world,f, indent=4, ensure_ascii=False)\n",
    "\n",
    "def load_world(filename):\n",
    "    with open(filename, 'r') as f:\n",
    "        return json.load(f)\n",
    "    \n",
    "def generate_file_name():\n",
    "       today = str(datetime.now().strftime(\"%Y-%m-%dT%H%M%SZ\"))\n",
    "       file_name=f\"mundos_criados//{today}_mundo_criado.json\"\n",
    "       return file_name        \n",
    "\n",
    "save_world(world,generate_file_name())"
   ]
  }
 ],
 "metadata": {
  "kernelspec": {
   "display_name": "venv_falkor",
   "language": "python",
   "name": "python3"
  },
  "language_info": {
   "codemirror_mode": {
    "name": "ipython",
    "version": 3
   },
   "file_extension": ".py",
   "mimetype": "text/x-python",
   "name": "python",
   "nbconvert_exporter": "python",
   "pygments_lexer": "ipython3",
   "version": "3.12.0"
  }
 },
 "nbformat": 4,
 "nbformat_minor": 5
}
