{
 "cells": [
  {
   "cell_type": "markdown",
   "id": "5ac6b5d5-fce7-4fcb-b1a8-c490ea5c5325",
   "metadata": {
    "id": "173e06c5-4b07-4e3b-a67a-5c3e141beb2c"
   },
   "source": [
    "# L1: Hierarchical Content Generation"
   ]
  },
  {
   "cell_type": "markdown",
   "id": "ac19c917-fe0b-4140-abc4-33d6b3972aaa",
   "metadata": {
    "id": "173e06c5-4b07-4e3b-a67a-5c3e141beb2c"
   },
   "source": [
    "## Creating a World"
   ]
  },
  {
   "cell_type": "code",
   "execution_count": 71,
   "id": "93056e48-cb80-46a8-8990-bc5b4ae9506b",
   "metadata": {
    "height": 149
   },
   "outputs": [],
   "source": [
    "system_prompt = f\"\"\"\n",
    "    Seu trabalho é ajudar a criar mundos de fantasia interessantes que os jogadores adorariam explorar.\n",
    "   \n",
    "    Instruções:\n",
    "    Gere apenas texto simples, sem formatação.\n",
    "    Use uma linguagem simples e clara, sem floreios.\n",
    "    Cada descrição deve ter no máximo 3-5 frases.\n",
    "    O conteúdo deve ser gerado em português\n",
    "\"\"\""
   ]
  },
  {
   "cell_type": "code",
   "execution_count": 72,
   "id": "330f3e78-9a20-45b1-afa5-a65289046a55",
   "metadata": {
    "height": 183
   },
   "outputs": [],
   "source": [
    "\n",
    "world_prompt = f\"\"\"\n",
    "Gere uma descrição criativa para um mundo de fantasia único.\n",
    "\n",
    "Saída do conteúdo no formato:\n",
    "Nome do Mundo: <NOME DO MUNDO>\n",
    "Descrição do Mundo: <DESCRIÇÃO DO MUNDO>\n",
    "\n",
    "Nome do Mundo:\"\"\"\n"
   ]
  },
  {
   "cell_type": "markdown",
   "id": "f61da3ef",
   "metadata": {},
   "source": [
    "**FUNCTIONS**"
   ]
  },
  {
   "cell_type": "code",
   "execution_count": 113,
   "id": "946de221",
   "metadata": {},
   "outputs": [],
   "source": [
    "SCHEMA_KINGDOMS={\"type\":\"object\",\"properties\":{\"kingdoms\":{\"type\":\"array\",\"items\":{\"type\":\"object\",\"properties\":{\"name\":{\"type\":\"string\"},\"description\":{\"type\":\"string\"},\"world\":{\"type\":\"string\"}},\"required\":[\"name\",\"description\",\"world\"]}}},\"required\":[\"kingdoms\"]}\n",
    "\n",
    "SCHEMA_WORLD={\"type\":\"object\",\"properties\":{\"name\":{\"type\":\"string\"},\"description\":{\"type\":\"string\"}}}\n",
    "\n",
    "SCHEMA_TOWNS={\"type\":\"object\",\"properties\":{\"towns\":{\"type\":\"array\",\"items\":{\"type\":\"object\",\"properties\":{\"name\":{\"type\":\"string\"},\"description\":{\"type\":\"string\"},\"world\":{\"type\":\"string\"},\"kingdom\":{\"type\":\"string\"}},\"required\":[\"name\",\"description\",\"world\",\"kingdom\"]}}},\"required\":[\"towns\"]}\n",
    "\n",
    "\n",
    "\n",
    "def generate_config(schema):\n",
    "    return{\n",
    "        \"temperature\": 1,\n",
    "        \"top_p\": 0.95,\n",
    "        \"top_k\": 40,\n",
    "        \"max_output_tokens\": 8192,\n",
    "        \"response_mime_type\": \"application/json\",\n",
    "        \"response_schema\": schema\n",
    "        \n",
    "}"
   ]
  },
  {
   "cell_type": "code",
   "execution_count": 107,
   "id": "7f928bb3-c6e4-4891-a154-3b3f225e8d21",
   "metadata": {
    "height": 217
   },
   "outputs": [],
   "source": [
    "import google.generativeai as genai\n",
    "from app_config import LLM_API_KEY,LLM_MODEL\n",
    "import json\n",
    "\n",
    "\n",
    "genai.configure(api_key=LLM_API_KEY)\n",
    "client = genai.GenerativeModel(\n",
    "            model_name=LLM_MODEL,\n",
    "            system_instruction=system_prompt\n",
    "            )\n",
    "\n",
    "output = client.generate_content(world_prompt,generation_config=generate_config(SCHEMA_WORLD))"
   ]
  },
  {
   "cell_type": "code",
   "execution_count": 108,
   "id": "22d161d6-cb78-4c3d-b858-5659d5d16761",
   "metadata": {
    "height": 47
   },
   "outputs": [
    {
     "name": "stdout",
     "output_type": "stream",
     "text": [
      "{'description': 'Atheria é um mundo mágico onde a magia flui livremente através das plantas e animais, criando um ecossistema único e vibrante.  Grandes florestas flutuantes abrigam criaturas fantásticas e civilizações antigas.  Ruínas de uma poderosa civilização perdida escondem segredos poderosos e perigos ocultos.  Os habitantes de Atheria são seres mágicos, com a habilidade de se conectar com a natureza e manipular os elementos.  Exploradores e aventureiros são constantemente atraídos pelas paisagens de tirar o fôlego e a promessa de descobrimento.', 'name': 'Atheria'}\n"
     ]
    }
   ],
   "source": [
    "world =json.loads(output.text)\n",
    "print(world)"
   ]
  },
  {
   "cell_type": "code",
   "execution_count": 109,
   "id": "b993a1df-7735-43da-9872-45bb2bdc9fb2",
   "metadata": {
    "height": 132
   },
   "outputs": [
    {
     "name": "stdout",
     "output_type": "stream",
     "text": [
      "Atheria\n",
      "Atheria é um mundo mágico onde a magia flui livremente através das plantas e animais, criando um ecossistema único e vibrante.  Grandes florestas flutuantes abrigam criaturas fantásticas e civilizações antigas.  Ruínas de uma poderosa civilização perdida escondem segredos poderosos e perigos ocultos.  Os habitantes de Atheria são seres mágicos, com a habilidade de se conectar com a natureza e manipular os elementos.  Exploradores e aventureiros são constantemente atraídos pelas paisagens de tirar o fôlego e a promessa de descobrimento.\n"
     ]
    }
   ],
   "source": [
    "print(world['name'])\n",
    "print(world['description'])"
   ]
  },
  {
   "cell_type": "markdown",
   "id": "5dbb561d-b115-4ba5-81f4-2ae3dfd4a71f",
   "metadata": {},
   "source": [
    "## Generating Kingdoms"
   ]
  },
  {
   "cell_type": "code",
   "execution_count": 110,
   "id": "9531806c-8b56-4fe5-bb15-d7c8d9b1cef8",
   "metadata": {
    "height": 319
   },
   "outputs": [],
   "source": [
    "kingdom_prompt = f\"\"\"\n",
    "Crie 3 reinos diferentes para um mundo de fantasia.\n",
    "Para cada reino, gere uma descrição com base no mundo em que ele está.\n",
    "Descreva líderes importantes, culturas e história do reino.\n",
    "\n",
    "Saída do conteúdo no formato:\n",
    "Nome do Reino 1: <NOME DO REINO>\n",
    "Descrição do Reino 1: <DESCRIÇÃO DO REINO>\n",
    "Nome do Reino 2: <NOME DO REINO>\n",
    "Descrição do Reino 2: <DESCRIÇÃO DO REINO>\n",
    "Nome do Reino 3: <NOME DO REINO>\n",
    "Descrição do Reino 3: <DESCRIÇÃO DO REINO>\n",
    "\n",
    "Nome do Mundo: {world['name']}\n",
    "Descrição do Mundo: {world['description']}\n",
    "\n",
    "Reino 1\"\"\"\n"
   ]
  },
  {
   "cell_type": "code",
   "execution_count": 111,
   "id": "f7c87417-695c-443a-baa1-b354a9664d14",
   "metadata": {
    "height": 132
   },
   "outputs": [
    {
     "data": {
      "text/plain": [
       "'{\"kingdoms\": [{\"description\": \"O Reino de Eldoria é conhecido por suas florestas antigas e sua cultura profundamente ligada à natureza. Seus habitantes, os Eldori, são seres pacíficos e sábios, com grande respeito pela magia natural. Liderados pela Rainha Lyra, uma curandeira poderosa, Eldoria prospera em harmonia com o ambiente, cultivando uma sociedade justa e equilibrada. Sua história é rica em lendas e tradições antigas, preservadas pelas gerações de druidas e xamãs.  Eldoria mantém relações amistosas com os reinos vizinhos, valorizando a diplomacia e a cooperação.\", \"name\": \"Eldoria\", \"world\": \"Atheria\"}, {\"description\": \"O Reino de Aerilon é uma nação costeira conhecida por sua poderosa marinha e sua cultura aventureira.  Os Aerilones são um povo corajoso e independente, com uma longa história de exploração e comércio. Liderados pelo Rei Theron, um estrategista brilhante, Aerilon domina a navegação e o comércio marítimo em Atheria. Sua história é marcada por grandes viagens e descobertas, enriquecendo sua cultura e expandindo seus horizontes. Aerilon busca constantemente novos caminhos e alianças estratégicas.\", \"name\": \"Aerilon\", \"world\": \"Atheria\"}, {\"description\": \"O Reino de Ignis é um reino montanhoso com uma cultura forte e guerreira, valorizando a honra e a força.  Os Ignisanos são um povo orgulhoso, dedicado à sua terra e aos seus antepassados. Liderados pelo Rei Magnus, um mestre da guerra experiente, Ignis mantém um exército poderoso e uma cultura rica em tradições marciais.  Sua história está repleta de conflitos e conquistas, forjando um povo resiliente e determinado. Ignis mantém suas fronteiras protegidas e respeita o poder militar acima de tudo.\", \"name\": \"Ignis\", \"world\": \"Atheria\"}]}'"
      ]
     },
     "execution_count": 111,
     "metadata": {},
     "output_type": "execute_result"
    }
   ],
   "source": [
    "output = client.generate_content(kingdom_prompt,generation_config=generate_config(SCHEMA_KINGDOMS))\n",
    "output.text"
   ]
  },
  {
   "cell_type": "code",
   "execution_count": 112,
   "id": "2e07b570",
   "metadata": {},
   "outputs": [
    {
     "data": {
      "text/plain": [
       "{'kingdoms': [{'description': 'O Reino de Eldoria é conhecido por suas florestas antigas e sua cultura profundamente ligada à natureza. Seus habitantes, os Eldori, são seres pacíficos e sábios, com grande respeito pela magia natural. Liderados pela Rainha Lyra, uma curandeira poderosa, Eldoria prospera em harmonia com o ambiente, cultivando uma sociedade justa e equilibrada. Sua história é rica em lendas e tradições antigas, preservadas pelas gerações de druidas e xamãs.  Eldoria mantém relações amistosas com os reinos vizinhos, valorizando a diplomacia e a cooperação.',\n",
       "   'name': 'Eldoria',\n",
       "   'world': 'Atheria'},\n",
       "  {'description': 'O Reino de Aerilon é uma nação costeira conhecida por sua poderosa marinha e sua cultura aventureira.  Os Aerilones são um povo corajoso e independente, com uma longa história de exploração e comércio. Liderados pelo Rei Theron, um estrategista brilhante, Aerilon domina a navegação e o comércio marítimo em Atheria. Sua história é marcada por grandes viagens e descobertas, enriquecendo sua cultura e expandindo seus horizontes. Aerilon busca constantemente novos caminhos e alianças estratégicas.',\n",
       "   'name': 'Aerilon',\n",
       "   'world': 'Atheria'},\n",
       "  {'description': 'O Reino de Ignis é um reino montanhoso com uma cultura forte e guerreira, valorizando a honra e a força.  Os Ignisanos são um povo orgulhoso, dedicado à sua terra e aos seus antepassados. Liderados pelo Rei Magnus, um mestre da guerra experiente, Ignis mantém um exército poderoso e uma cultura rica em tradições marciais.  Sua história está repleta de conflitos e conquistas, forjando um povo resiliente e determinado. Ignis mantém suas fronteiras protegidas e respeita o poder militar acima de tudo.',\n",
       "   'name': 'Ignis',\n",
       "   'world': 'Atheria'}]}"
      ]
     },
     "execution_count": 112,
     "metadata": {},
     "output_type": "execute_result"
    }
   ],
   "source": [
    "kingdoms = json.loads(output.text)\n",
    "kingdoms"
   ]
  },
  {
   "cell_type": "markdown",
   "id": "e124ee9d-694b-4259-b38a-34ee106c5ca4",
   "metadata": {},
   "source": [
    "## Generating Towns"
   ]
  },
  {
   "cell_type": "code",
   "execution_count": 114,
   "id": "8f111ae4-dc95-49e1-ae15-4b5fd515988e",
   "metadata": {
    "height": 387
   },
   "outputs": [],
   "source": [
    "def get_town_prompt(world, kingdom):\n",
    "    return f\"\"\"\n",
    "            Crie 3 cidades diferentes para um reino e mundo de fantasia.\n",
    "            Descreva a região em que está localizada, lugares importantes da cidade\n",
    "            e sua história interessante.\n",
    "\n",
    "            Saída do conteúdo no formato:\n",
    "            Nome da Cidade 1: <NOME DA CIDADE>\n",
    "            Descrição da Cidade 1: <DESCRIÇÃO DA CIDADE>\n",
    "            Nome da Cidade 2: <NOME DA CIDADE>\n",
    "            Descrição da Cidade 2: <DESCRIÇÃO DA CIDADE>\n",
    "            Nome da Cidade 3: <NOME DA CIDADE>\n",
    "            Descrição da Cidade 3: <DESCRIÇÃO DA CIDADE>\n",
    "\n",
    "            Nome do Mundo: {world['name']}\n",
    "            Descrição do Mundo: {world['description']}\n",
    "\n",
    "            Nome do Reino: {kingdom['name']}\n",
    "            Descrição do Reino: {kingdom['description']}\n",
    "\n",
    "            Nome da Cidade 1:\"\"\"\n"
   ]
  },
  {
   "cell_type": "code",
   "execution_count": 128,
   "id": "90d892c0-b74e-4c75-bcf7-b055fa6712cd",
   "metadata": {
    "height": 489
   },
   "outputs": [],
   "source": [
    "def create_towns(world, kingdom):\n",
    "    print(kingdom['name'])\n",
    "    output = client.generate_content(get_town_prompt(world,kingdom),generation_config=generate_config(SCHEMA_TOWNS))\n",
    "    output.text\n",
    "    towns = json.loads(output.text)\n",
    "    kingdom[\"towns\"] = towns[\"towns\"]"
   ]
  },
  {
   "cell_type": "code",
   "execution_count": 129,
   "id": "b534d860-5b6b-43f8-9c60-e345fbaf1d9e",
   "metadata": {
    "height": 115
   },
   "outputs": [
    {
     "name": "stdout",
     "output_type": "stream",
     "text": [
      "Eldoria\n",
      "Aerilon\n",
      "Ignis\n"
     ]
    }
   ],
   "source": [
    "for kingdom in kingdoms['kingdoms']:\n",
    "    create_towns(world, kingdom)  \n",
    "\n"
   ]
  },
  {
   "cell_type": "code",
   "execution_count": 130,
   "id": "7e6ce74d",
   "metadata": {},
   "outputs": [
    {
     "data": {
      "text/plain": [
       "{'kingdoms': [{'description': 'O Reino de Eldoria é conhecido por suas florestas antigas e sua cultura profundamente ligada à natureza. Seus habitantes, os Eldori, são seres pacíficos e sábios, com grande respeito pela magia natural. Liderados pela Rainha Lyra, uma curandeira poderosa, Eldoria prospera em harmonia com o ambiente, cultivando uma sociedade justa e equilibrada. Sua história é rica em lendas e tradições antigas, preservadas pelas gerações de druidas e xamãs.  Eldoria mantém relações amistosas com os reinos vizinhos, valorizando a diplomacia e a cooperação.',\n",
       "   'name': 'Eldoria',\n",
       "   'world': 'Atheria',\n",
       "   'towns': [{'description': 'Localizada no coração da Floresta de Eldoria, Lumina é uma cidade construída em torno de uma antiga árvore sagrada. Seus prédios são feitos de madeira e pedra, harmonizando com a natureza. O Grande Salão da Árvore é o centro da cidade, onde os anciãos se reúnem para tomar decisões. Lumina sempre foi um centro de aprendizado e conhecimento, abrigando uma biblioteca repleta de antigos livros de magia natural.',\n",
       "     'kingdom': 'Eldoria',\n",
       "     'name': 'Lumina',\n",
       "     'world': 'Atheria'},\n",
       "    {'description': 'Situada próxima às Montanhas Nebulares, Pedra-do-Sol é uma cidade fortificada, conhecida por sua arquitetura imponente e defesa robusta. Construída em arenito e basalto, a cidade se destaca pelas muralhas altíssimas e a Torre Solar, um observatório astronômico. Uma grande academia militar treina soldados e guardas para proteger a cidade e o reino.  Seu passado é marcado por batalhas contra invasores, forjando a resiliência de seus habitantes.',\n",
       "     'kingdom': 'Eldoria',\n",
       "     'name': 'Pedra-do-Sol',\n",
       "     'world': 'Atheria'},\n",
       "    {'description': 'Próxima ao Rio Prata, a cidade de Folha-Verde é uma cidade comercial próspera, famosa por seu mercado movimentado e agricultura abundante. Seus prédios são coloridos e vibrantes, refletindo a alegria e prosperidade de seus habitantes. O Jardim Botânico Real abriga plantas mágicas e raras de todo o mundo, atraindo estudiosos e colecionadores. A cidade cresceu devido à sua localização estratégica, transformando-se num importante centro de comércio e intercâmbio cultural.',\n",
       "     'kingdom': 'Eldoria',\n",
       "     'name': 'Folha-Verde',\n",
       "     'world': 'Atheria'}]},\n",
       "  {'description': 'O Reino de Aerilon é uma nação costeira conhecida por sua poderosa marinha e sua cultura aventureira.  Os Aerilones são um povo corajoso e independente, com uma longa história de exploração e comércio. Liderados pelo Rei Theron, um estrategista brilhante, Aerilon domina a navegação e o comércio marítimo em Atheria. Sua história é marcada por grandes viagens e descobertas, enriquecendo sua cultura e expandindo seus horizontes. Aerilon busca constantemente novos caminhos e alianças estratégicas.',\n",
       "   'name': 'Aerilon',\n",
       "   'world': 'Atheria',\n",
       "   'towns': [{'description': 'Localizada na costa oeste de Aerilon, Porthaven é uma cidade portuária movimentada, ponto central do comércio marítimo do reino.  Seu porto abriga navios de todos os tipos e tamanhos, e suas docas estão sempre cheias de comerciantes e marinheiros.  O Farol de Porthaven, um marco icônico, guia os navios através dos perigosos recifes costeiros. A cidade foi fundada pelos primeiros colonos de Aerilon, tornando-se um símbolo da história marítima do reino.',\n",
       "     'kingdom': 'Aerilon',\n",
       "     'name': 'Porthaven',\n",
       "     'world': 'Atheria'},\n",
       "    {'description': 'Situada no interior, Silverwood é uma cidade cercada por uma vasta floresta, conhecida por suas minas de prata e sua arquitetura única, construída em madeira e pedra.  O centro da cidade é marcado pelo Grande Salão, onde os artesãos locais vendem seus produtos.  A cidade cresceu em torno das minas, atraindo muitos trabalhadores e comerciantes, e desenvolveu uma forte identidade cultural.  Lendas antigas falam de uma poderosa magia escondida nas profundezas da floresta.',\n",
       "     'kingdom': 'Aerilon',\n",
       "     'name': 'Silverwood',\n",
       "     'world': 'Atheria'},\n",
       "    {'description': 'Construída sobre uma península rochosa, com vista para um amplo fiorde, Oakhaven é uma cidade fortificada, um posto avançado de Aerilon e um importante centro de defesa.  Suas muralhas de pedra são intransponíveis, e seus canhões protegem o fiorde contra invasores.  O Castelo de Oakhaven, um imponente forte localizado no topo da península, serve como residência do governador e símbolo do poder real.  A cidade é conhecida por seus guerreiros e sua resistência.',\n",
       "     'kingdom': 'Aerilon',\n",
       "     'name': 'Oakhaven',\n",
       "     'world': 'Atheria'}]},\n",
       "  {'description': 'O Reino de Ignis é um reino montanhoso com uma cultura forte e guerreira, valorizando a honra e a força.  Os Ignisanos são um povo orgulhoso, dedicado à sua terra e aos seus antepassados. Liderados pelo Rei Magnus, um mestre da guerra experiente, Ignis mantém um exército poderoso e uma cultura rica em tradições marciais.  Sua história está repleta de conflitos e conquistas, forjando um povo resiliente e determinado. Ignis mantém suas fronteiras protegidas e respeita o poder militar acima de tudo.',\n",
       "   'name': 'Ignis',\n",
       "   'world': 'Atheria',\n",
       "   'towns': [{'description': 'Localizada no alto das montanhas, próxima a imponentes picos nevados, Cinderhaven é uma cidade fortificada conhecida por suas minas de obsidiana e forjas.  Sua história é marcada por batalhas contra criaturas das montanhas e uma cultura de ferreiros habilidosos. Lugares importantes incluem a Fortaleza da Obsidiana, as Forjas de Cinder e o Templo do Forjador.',\n",
       "     'kingdom': 'Ignis',\n",
       "     'name': 'Cinderhaven',\n",
       "     'world': 'Atheria'},\n",
       "    {'description': 'Situada em um vale fértil próximo a um grande rio, Oakhaven é uma cidade próspera conhecida por sua agricultura e comércio.  Fundada séculos atrás por colonos, sua história é pacífica e repleta de tradições agrícolas.  Lugares importantes incluem o Mercado Central, a Fazenda Real e o Santuário da Colheita.',\n",
       "     'kingdom': 'Ignis',\n",
       "     'name': 'Oakhaven',\n",
       "     'world': 'Atheria'},\n",
       "    {'description': 'Construída em um penhasco íngreme, com vista para um desfiladeiro profundo, Stonewatch é uma cidade estratégica e militarmente importante.  Sua história é marcada por sua função como ponto de defesa contra invasores, e sua arquitetura imponente reflete isso.  Lugares importantes incluem a Torre de Vigia, os Quartéis Reais e a Academia de Guerreiros.',\n",
       "     'kingdom': 'Ignis',\n",
       "     'name': 'Stonewatch',\n",
       "     'world': 'Atheria'}]}]}"
      ]
     },
     "execution_count": 130,
     "metadata": {},
     "output_type": "execute_result"
    }
   ],
   "source": [
    "kingdoms"
   ]
  },
  {
   "cell_type": "code",
   "execution_count": 142,
   "id": "711630a6",
   "metadata": {},
   "outputs": [
    {
     "data": {
      "text/plain": [
       "{'description': 'Localizada no coração da Floresta de Eldoria, Lumina é uma cidade construída em torno de uma antiga árvore sagrada. Seus prédios são feitos de madeira e pedra, harmonizando com a natureza. O Grande Salão da Árvore é o centro da cidade, onde os anciãos se reúnem para tomar decisões. Lumina sempre foi um centro de aprendizado e conhecimento, abrigando uma biblioteca repleta de antigos livros de magia natural.',\n",
       " 'kingdom': 'Eldoria',\n",
       " 'name': 'Lumina',\n",
       " 'world': 'Atheria'}"
      ]
     },
     "execution_count": 142,
     "metadata": {},
     "output_type": "execute_result"
    }
   ],
   "source": [
    "kingdoms['kingdoms'][0]['towns'][0]"
   ]
  },
  {
   "cell_type": "code",
   "execution_count": 143,
   "id": "a11406fe",
   "metadata": {},
   "outputs": [
    {
     "name": "stdout",
     "output_type": "stream",
     "text": [
      "\n",
      "Town 1 Description: Localizada no coração da Floresta de Eldoria, Lumina é uma cidade construída em torno de uma antiga árvore sagrada. Seus prédios são feitos de madeira e pedra, harmonizando com a natureza. O Grande Salão da Árvore é o centro da cidade, onde os anciãos se reúnem para tomar decisões. Lumina sempre foi um centro de aprendizado e conhecimento, abrigando uma biblioteca repleta de antigos livros de magia natural.\n"
     ]
    }
   ],
   "source": [
    "town = kingdoms['kingdoms'][0]['towns'][0]\n",
    "print(f'\\nTown 1 Description: \\\n",
    "{town[\"description\"]}')"
   ]
  },
  {
   "cell_type": "markdown",
   "id": "fff397b4-3ac6-4737-a232-8e68df1471b0",
   "metadata": {},
   "source": [
    "## Generating Non-Player Characters (NPC's)"
   ]
  },
  {
   "cell_type": "code",
   "execution_count": null,
   "id": "f31adacd-a37a-4de9-9be5-aadf56fff988",
   "metadata": {
    "height": 421
   },
   "outputs": [],
   "source": [
    "def get_npc_prompt(world, kingdom, town): \n",
    "    return f\"\"\"\n",
    "    Create 3 different characters based on the world, kingdom \\\n",
    "    and town they're in. Describe the character's appearance and \\\n",
    "    profession, as well as their deeper pains and desires. \\\n",
    "    \n",
    "    Output content in the form:\n",
    "    Character 1 Name: <CHARACTER NAME>\n",
    "    Character 1 Description: <CHARACTER DESCRIPTION>\n",
    "    Character 2 Name: <CHARACTER NAME>\n",
    "    Character 2 Description: <CHARACTER DESCRIPTION>\n",
    "    Character 3 Name: <CHARACTER NAME>\n",
    "    Character 3 Description: <CHARACTER DESCRIPTION>\n",
    "    \n",
    "    World Name: {world['name']}\n",
    "    World Description: {world['description']}\n",
    "    \n",
    "    Kingdom Name: {kingdom['name']}\n",
    "    Kingdom Description: {kingdom['description']}\n",
    "    \n",
    "    Town Name: {town['name']}\n",
    "    Town Description: {town['description']}\n",
    "    \n",
    "    Character 1 Name:\"\"\""
   ]
  },
  {
   "cell_type": "code",
   "execution_count": null,
   "id": "a301bf4d-1f99-475b-ae88-4a05e7537e3f",
   "metadata": {
    "height": 523
   },
   "outputs": [],
   "source": [
    "def create_npcs(world, kingdom, town):\n",
    "    print(f'\\nCreating characters for the town of: {town[\"name\"]}...')\n",
    "    output = client.chat.completions.create(\n",
    "        model=\"meta-llama/Llama-3-70b-chat-hf\",\n",
    "        messages=[\n",
    "            {\"role\": \"system\", \"content\": system_prompt},\n",
    "            {\"role\": \"user\", \"content\": get_npc_prompt(world, kingdom, town)}\n",
    "        ],\n",
    "        temperature=1  #added to generate unique names\n",
    "    )\n",
    "\n",
    "    npcs_output = output.choices[0].message.content\n",
    "    npcs = {}\n",
    "    for output in npcs_output.split('\\n\\n'):\n",
    "        npc_name = output.strip().split('\\n')[0]\\\n",
    "        .split('Name: ')[1].strip()\n",
    "        print(f'- \"{npc_name}\" created')\n",
    "        \n",
    "        npc_description = output.strip().split('\\n')[1\\\n",
    "        ].split('Description: ')[1].strip()\n",
    "        \n",
    "        npc = {\n",
    "        \"name\": npc_name,\n",
    "        \"description\": npc_description,\n",
    "        \"world\": world['name'],\n",
    "        \"kingdom\": kingdom['name'],\n",
    "        \"town\": town['name']\n",
    "        }\n",
    "        npcs[npc_name] = npc\n",
    "    town[\"npcs\"] = npcs"
   ]
  },
  {
   "cell_type": "code",
   "execution_count": null,
   "id": "36f0021d-41fa-4f3d-aed9-32d4fcb69dcb",
   "metadata": {
    "height": 98
   },
   "outputs": [],
   "source": [
    "for kingdom in kingdoms.values():\n",
    "    for town in kingdom['towns'].values():\n",
    "        create_npcs(world, kingdom, town)\n",
    "  # For now we'll only generate npcs for one kingdom\n",
    "    break"
   ]
  },
  {
   "cell_type": "code",
   "execution_count": null,
   "id": "e95294cc-ee92-430d-ad48-e95852784851",
   "metadata": {
    "height": 81
   },
   "outputs": [],
   "source": [
    "npc = list(town['npcs'].values())[0]\n",
    "\n",
    "print(f'\\nNPC 1 in {town[\"name\"]}, \\\n",
    "{kingdom[\"name\"]}:\\n{npc[\"description\"]}')"
   ]
  },
  {
   "cell_type": "markdown",
   "id": "764a433b-5e04-4980-a9b0-4d336113f072",
   "metadata": {},
   "source": [
    "## Save the World\n",
    ">Note: You will save your world state to a file different than the one shown in the video to allow future lessons to be consistent with the video. If later wish to build your own worlds, you will want to load your file rather than the saved file."
   ]
  },
  {
   "cell_type": "code",
   "execution_count": null,
   "id": "2dce3195-2c76-42da-9e49-c7a17e5ab08b",
   "metadata": {
    "height": 217
   },
   "outputs": [],
   "source": [
    "import json\n",
    "\n",
    "def save_world(world, filename):\n",
    "    with open(filename, 'w') as f:\n",
    "        json.dump(world, f)\n",
    "\n",
    "def load_world(filename):\n",
    "    with open(filename, 'r') as f:\n",
    "        return json.load(f)\n",
    "\n",
    "#save_world(world, '../shared_data/Kyropeia.json')\n",
    "save_world(world, '../shared_data/YourWorld_L1.json') #save to your version"
   ]
  },
  {
   "cell_type": "code",
   "execution_count": null,
   "id": "f64fc076-32b5-41ca-b755-6ccbd52347c0",
   "metadata": {
    "height": 30
   },
   "outputs": [],
   "source": []
  }
 ],
 "metadata": {
  "kernelspec": {
   "display_name": "venv_falkor",
   "language": "python",
   "name": "python3"
  },
  "language_info": {
   "codemirror_mode": {
    "name": "ipython",
    "version": 3
   },
   "file_extension": ".py",
   "mimetype": "text/x-python",
   "name": "python",
   "nbconvert_exporter": "python",
   "pygments_lexer": "ipython3",
   "version": "3.12.0"
  }
 },
 "nbformat": 4,
 "nbformat_minor": 5
}
