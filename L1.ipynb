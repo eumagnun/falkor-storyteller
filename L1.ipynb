{
 "cells": [
  {
   "cell_type": "markdown",
   "id": "5ac6b5d5-fce7-4fcb-b1a8-c490ea5c5325",
   "metadata": {
    "id": "173e06c5-4b07-4e3b-a67a-5c3e141beb2c"
   },
   "source": [
    "# L1: Hierarchical Content Generation"
   ]
  },
  {
   "cell_type": "markdown",
   "id": "ac19c917-fe0b-4140-abc4-33d6b3972aaa",
   "metadata": {
    "id": "173e06c5-4b07-4e3b-a67a-5c3e141beb2c"
   },
   "source": [
    "## Creating a World"
   ]
  },
  {
   "cell_type": "code",
   "execution_count": 146,
   "id": "93056e48-cb80-46a8-8990-bc5b4ae9506b",
   "metadata": {
    "height": 149
   },
   "outputs": [],
   "source": [
    "system_prompt = f\"\"\"\n",
    "    Seu trabalho é ajudar a criar mundos de fantasia interessantes que os jogadores adorariam explorar.\n",
    "   \n",
    "    Instruções:\n",
    "    Gere apenas texto simples, sem formatação.\n",
    "    Use uma linguagem simples e clara, sem floreios.\n",
    "    Cada descrição deve ter no máximo 3-5 frases.\n",
    "    O conteúdo deve ser gerado em português\n",
    "\"\"\""
   ]
  },
  {
   "cell_type": "code",
   "execution_count": 147,
   "id": "330f3e78-9a20-45b1-afa5-a65289046a55",
   "metadata": {
    "height": 183
   },
   "outputs": [],
   "source": [
    "\n",
    "world_prompt = f\"\"\"\n",
    "Gere uma descrição criativa para um mundo de fantasia único.\n",
    "\n",
    "Saída do conteúdo no formato:\n",
    "Nome do Mundo: <NOME DO MUNDO>\n",
    "Descrição do Mundo: <DESCRIÇÃO DO MUNDO>\n",
    "\n",
    "Nome do Mundo:\"\"\"\n"
   ]
  },
  {
   "cell_type": "markdown",
   "id": "f61da3ef",
   "metadata": {},
   "source": [
    "**FUNCTIONS**"
   ]
  },
  {
   "cell_type": "code",
   "execution_count": 148,
   "id": "946de221",
   "metadata": {},
   "outputs": [],
   "source": [
    "SCHEMA_KINGDOMS={\"type\":\"object\",\"properties\":{\"kingdoms\":{\"type\":\"array\",\"items\":{\"type\":\"object\",\"properties\":{\"name\":{\"type\":\"string\"},\"description\":{\"type\":\"string\"},\"world\":{\"type\":\"string\"}},\"required\":[\"name\",\"description\",\"world\"]}}},\"required\":[\"kingdoms\"]}\n",
    "\n",
    "SCHEMA_WORLD={\"type\":\"object\",\"properties\":{\"name\":{\"type\":\"string\"},\"description\":{\"type\":\"string\"}}}\n",
    "\n",
    "SCHEMA_TOWNS={\"type\":\"object\",\"properties\":{\"towns\":{\"type\":\"array\",\"items\":{\"type\":\"object\",\"properties\":{\"name\":{\"type\":\"string\"},\"description\":{\"type\":\"string\"},\"world\":{\"type\":\"string\"},\"kingdom\":{\"type\":\"string\"}},\"required\":[\"name\",\"description\",\"world\",\"kingdom\"]}}},\"required\":[\"towns\"]}\n",
    "\n",
    "SCHEMA_NPCS={\"type\":\"object\",\"properties\":{\"npcs\":{\"type\":\"array\",\"items\":{\"type\":\"object\",\"properties\":{\"name\":{\"type\":\"string\"},\"description\":{\"type\":\"string\"},\"world\":{\"type\":\"string\"},\"kingdom\":{\"type\":\"string\"},\"town\":{\"type\":\"string\"}},\"required\":[\"name\",\"description\",\"world\",\"kingdom\",\"town\"]}}},\"required\":[\"npcs\"]}\n",
    "\n",
    "\n",
    "def generate_config(schema):\n",
    "    return{\n",
    "        \"temperature\": 1,\n",
    "        \"top_p\": 0.95,\n",
    "        \"top_k\": 40,\n",
    "        \"max_output_tokens\": 8192,\n",
    "        \"response_mime_type\": \"application/json\",\n",
    "        \"response_schema\": schema\n",
    "        \n",
    "}"
   ]
  },
  {
   "cell_type": "code",
   "execution_count": 179,
   "id": "7f928bb3-c6e4-4891-a154-3b3f225e8d21",
   "metadata": {
    "height": 217
   },
   "outputs": [],
   "source": [
    "import google.generativeai as genai\n",
    "from app_config import LLM_API_KEY,LLM_MODEL\n",
    "import json\n",
    "from google.generativeai.types import HarmCategory, HarmBlockThreshold\n",
    "\n",
    "\n",
    "\n",
    "\n",
    "genai.configure(api_key=LLM_API_KEY)\n",
    "client = genai.GenerativeModel(\n",
    "            model_name=LLM_MODEL,\n",
    "            system_instruction=system_prompt\n",
    "            )\n",
    "\n",
    "output = client.generate_content(world_prompt,generation_config=generate_config(SCHEMA_WORLD))"
   ]
  },
  {
   "cell_type": "code",
   "execution_count": 180,
   "id": "22d161d6-cb78-4c3d-b858-5659d5d16761",
   "metadata": {
    "height": 47
   },
   "outputs": [
    {
     "name": "stdout",
     "output_type": "stream",
     "text": [
      "{'description': 'Em Aerthos, a magia é tecida no próprio tecido da realidade, manifestando-se em flora exuberante e fauna fantástica.  Grandes florestas flutuantes cruzam os céus, enquanto cidades subterrâneas vibrantes se escondem sob as profundezas.  Os habitantes deste mundo são seres mágicos e criaturas místicas que coexistem em uma delicada harmonia, constantemente ameaçada por forças obscuras que se escondem nas sombras.', 'name': 'Aerthos'}\n"
     ]
    }
   ],
   "source": [
    "world =json.loads(output.text)\n",
    "print(world)"
   ]
  },
  {
   "cell_type": "code",
   "execution_count": 181,
   "id": "b993a1df-7735-43da-9872-45bb2bdc9fb2",
   "metadata": {
    "height": 132
   },
   "outputs": [
    {
     "name": "stdout",
     "output_type": "stream",
     "text": [
      "Aerthos\n",
      "Em Aerthos, a magia é tecida no próprio tecido da realidade, manifestando-se em flora exuberante e fauna fantástica.  Grandes florestas flutuantes cruzam os céus, enquanto cidades subterrâneas vibrantes se escondem sob as profundezas.  Os habitantes deste mundo são seres mágicos e criaturas místicas que coexistem em uma delicada harmonia, constantemente ameaçada por forças obscuras que se escondem nas sombras.\n"
     ]
    }
   ],
   "source": [
    "print(world['name'])\n",
    "print(world['description'])"
   ]
  },
  {
   "cell_type": "markdown",
   "id": "5dbb561d-b115-4ba5-81f4-2ae3dfd4a71f",
   "metadata": {},
   "source": [
    "## Generating Kingdoms"
   ]
  },
  {
   "cell_type": "code",
   "execution_count": 182,
   "id": "9531806c-8b56-4fe5-bb15-d7c8d9b1cef8",
   "metadata": {
    "height": 319
   },
   "outputs": [],
   "source": [
    "kingdom_prompt = f\"\"\"\n",
    "Crie 3 reinos diferentes para um mundo de fantasia.\n",
    "Para cada reino, gere uma descrição com base no mundo em que ele está.\n",
    "Descreva líderes importantes, culturas e história do reino.\n",
    "\n",
    "Saída do conteúdo no formato:\n",
    "Nome do Reino 1: <NOME DO REINO>\n",
    "Descrição do Reino 1: <DESCRIÇÃO DO REINO>\n",
    "Nome do Reino 2: <NOME DO REINO>\n",
    "Descrição do Reino 2: <DESCRIÇÃO DO REINO>\n",
    "Nome do Reino 3: <NOME DO REINO>\n",
    "Descrição do Reino 3: <DESCRIÇÃO DO REINO>\n",
    "\n",
    "Nome do Mundo: {world['name']}\n",
    "Descrição do Mundo: {world['description']}\n",
    "\n",
    "Reino 1\"\"\"\n"
   ]
  },
  {
   "cell_type": "code",
   "execution_count": 183,
   "id": "f7c87417-695c-443a-baa1-b354a9664d14",
   "metadata": {
    "height": 132
   },
   "outputs": [
    {
     "data": {
      "text/plain": [
       "[{'description': 'O Reino de Eldoria é conhecido por suas florestas antigas e magia poderosa. Seus líderes, os Elfos Anciões, são sábios e justos, governando com conselhos e sabedoria acumulada ao longo dos séculos. A cultura eldar é rica em arte, música e tradições ancestrais, preservadas com zelo. Sua história é longa e gloriosa, repleta de conquistas e batalhas épicas contra as forças das trevas.',\n",
       "  'name': 'Eldoria',\n",
       "  'world': 'Aerthos'},\n",
       " {'description': 'O Reino de Veridia é um lugar de maravilhas tecnológicas e inovação. Liderado pela rainha Lyra, uma brilhante governante e inventora, Veridia se destaca pelo desenvolvimento de máquinas complexas e encantamentos tecnológicos únicos. Sua cultura valoriza a criatividade e o progresso, misturando magia e tecnologia de forma inovadora. Veridia tem uma história recente de ascensão, passando de um pequeno reino a uma potência tecnológica em poucos séculos.',\n",
       "  'name': 'Veridia',\n",
       "  'world': 'Aerthos'},\n",
       " {'description': 'O Reino de Solara é um reino desértico governado pelo Sultão Azir, um líder estratégico e diplomata experiente. Sua cultura valoriza a resiliência, a adaptação e a sabedoria ancestral, passada através de histórias e lendas. Os solares são hábeis comerciantes e sobreviventes, tendo construído um império próspero em um ambiente hostil. Sua história é marcada por grandes períodos de seca e prosperidade, forjando um povo perseverante e determinado.',\n",
       "  'name': 'Solara',\n",
       "  'world': 'Aerthos'}]"
      ]
     },
     "execution_count": 183,
     "metadata": {},
     "output_type": "execute_result"
    }
   ],
   "source": [
    "output = client.generate_content(kingdom_prompt,generation_config=generate_config(SCHEMA_KINGDOMS))\n",
    "kingdoms = json.loads(output.text)[\"kingdoms\"]\n",
    "kingdoms"
   ]
  },
  {
   "cell_type": "markdown",
   "id": "e124ee9d-694b-4259-b38a-34ee106c5ca4",
   "metadata": {},
   "source": [
    "## Generating Towns"
   ]
  },
  {
   "cell_type": "code",
   "execution_count": 184,
   "id": "8f111ae4-dc95-49e1-ae15-4b5fd515988e",
   "metadata": {
    "height": 387
   },
   "outputs": [],
   "source": [
    "def get_town_prompt(world, kingdom):\n",
    "    return f\"\"\"\n",
    "            Crie 3 cidades diferentes para um reino e mundo de fantasia.\n",
    "            Descreva a região em que está localizada, lugares importantes da cidade\n",
    "            e sua história interessante.\n",
    "\n",
    "            Saída do conteúdo no formato:\n",
    "            Nome da Cidade 1: <NOME DA CIDADE>\n",
    "            Descrição da Cidade 1: <DESCRIÇÃO DA CIDADE>\n",
    "            Nome da Cidade 2: <NOME DA CIDADE>\n",
    "            Descrição da Cidade 2: <DESCRIÇÃO DA CIDADE>\n",
    "            Nome da Cidade 3: <NOME DA CIDADE>\n",
    "            Descrição da Cidade 3: <DESCRIÇÃO DA CIDADE>\n",
    "\n",
    "            Nome do Mundo: {world['name']}\n",
    "            Descrição do Mundo: {world['description']}\n",
    "\n",
    "            Nome do Reino: {kingdom['name']}\n",
    "            Descrição do Reino: {kingdom['description']}\n",
    "\n",
    "            Nome da Cidade 1:\"\"\"\n"
   ]
  },
  {
   "cell_type": "code",
   "execution_count": 185,
   "id": "90d892c0-b74e-4c75-bcf7-b055fa6712cd",
   "metadata": {
    "height": 489
   },
   "outputs": [],
   "source": [
    "def create_towns(world, kingdom):\n",
    "    print(kingdom['name'])\n",
    "    output = client.generate_content(get_town_prompt(world,kingdom),generation_config=generate_config(SCHEMA_TOWNS))\n",
    "    towns = json.loads(output.text)\n",
    "    kingdom[\"towns\"] = towns[\"towns\"]"
   ]
  },
  {
   "cell_type": "code",
   "execution_count": 186,
   "id": "b534d860-5b6b-43f8-9c60-e345fbaf1d9e",
   "metadata": {
    "height": 115
   },
   "outputs": [
    {
     "name": "stdout",
     "output_type": "stream",
     "text": [
      "Eldoria\n",
      "Veridia\n",
      "Solara\n"
     ]
    }
   ],
   "source": [
    "for kingdom in kingdoms:\n",
    "    create_towns(world, kingdom)  \n",
    "\n"
   ]
  },
  {
   "cell_type": "code",
   "execution_count": 187,
   "id": "7e6ce74d",
   "metadata": {},
   "outputs": [
    {
     "data": {
      "text/plain": [
       "[{'description': 'O Reino de Eldoria é conhecido por suas florestas antigas e magia poderosa. Seus líderes, os Elfos Anciões, são sábios e justos, governando com conselhos e sabedoria acumulada ao longo dos séculos. A cultura eldar é rica em arte, música e tradições ancestrais, preservadas com zelo. Sua história é longa e gloriosa, repleta de conquistas e batalhas épicas contra as forças das trevas.',\n",
       "  'name': 'Eldoria',\n",
       "  'world': 'Aerthos',\n",
       "  'towns': [{'description': 'Situada no alto de uma cadeia de montanhas, Lumina é uma cidade de arquitetura deslumbrante, esculpida em rocha e cristal. Seu principal ponto de interesse é o Templo da Luz Eterna, um local de peregrinação para devotos de toda Aerthos.  A cidade abriga uma rica história, tendo resistido a inúmeros ataques ao longo dos séculos, graças à sua posição estratégica e magia protetora.',\n",
       "    'kingdom': 'Eldoria',\n",
       "    'name': 'Lumina',\n",
       "    'world': 'Aerthos'},\n",
       "   {'description': 'Porto livre e cosmopolita localizado na costa oeste de Eldoria, Port-Aurore é um centro de comércio e cultura.  A cidade possui um movimentado porto, o Mercado das Maravilhas, repleto de mercadorias exóticas, e a Torre do Almirante, de onde se avista todo o litoral. Sua história é marcada por disputas comerciais e alianças estratégicas com reinos vizinhos.',\n",
       "    'kingdom': 'Eldoria',\n",
       "    'name': 'Port-Aurore',\n",
       "    'world': 'Aerthos'},\n",
       "   {'description': 'Escondida em uma floresta encantada, Arboris é uma cidade construída sobre as copas das árvores gigantescas.  Conhecida por suas casas de madeira entrelaçadas e jardins suspensos, Arboris é um centro de magia natural e conhecimento botânico.  A cidade é antiga, tão antiga quanto as árvores em que foi erguida, preservando segredos da magia natural e da história de Eldoria.',\n",
       "    'kingdom': 'Eldoria',\n",
       "    'name': 'Arboris',\n",
       "    'world': 'Aerthos'}]},\n",
       " {'description': 'O Reino de Veridia é um lugar de maravilhas tecnológicas e inovação. Liderado pela rainha Lyra, uma brilhante governante e inventora, Veridia se destaca pelo desenvolvimento de máquinas complexas e encantamentos tecnológicos únicos. Sua cultura valoriza a criatividade e o progresso, misturando magia e tecnologia de forma inovadora. Veridia tem uma história recente de ascensão, passando de um pequeno reino a uma potência tecnológica em poucos séculos.',\n",
       "  'name': 'Veridia',\n",
       "  'world': 'Aerthos',\n",
       "  'towns': [{'description': 'Localizada no alto de penhascos rochosos, Lumina é uma cidade portuária famosa por seus navios mágicos que navegam pelas nuvens.  Seu principal ponto de interesse é o Farol de Cristal, que guia os navios e protege a cidade de tempestades mágicas.  Fundada por marinheiros lendários, Lumina prosperou com o comércio e a exploração de novas rotas aéreas.',\n",
       "    'kingdom': 'Veridia',\n",
       "    'name': 'Lumina',\n",
       "    'world': 'Aerthos'},\n",
       "   {'description': 'Situada em um vale fértil, Arboria é uma cidade cercada por florestas antigas e cachoeiras mágicas.  O Grande Jardim Botânico, lar de plantas raras e flores encantadoras, é o coração da cidade.  Com uma história de paz e harmonia com a natureza, Arboria foi construída pelos primeiros colonizadores de Veridia, que buscavam uma vida em sintonia com a magia natural.',\n",
       "    'kingdom': 'Veridia',\n",
       "    'name': 'Arboria',\n",
       "    'world': 'Aerthos'},\n",
       "   {'description': 'Construída sobre uma rede de cavernas subterrâneas, Subterra é uma cidade vibrante e tecnológica que utiliza energia geotérmica e cristais mágicos para alimentar suas máquinas.  A Mina de Cristal, fonte de energia da cidade, e a Grande Biblioteca de Tecnologia, contendo conhecimentos ancestrais, são seus principais locais.  Forjada na escuridão, Subterra se desenvolveu como um centro de inovação e descobertas científicas.',\n",
       "    'kingdom': 'Veridia',\n",
       "    'name': 'Subterra',\n",
       "    'world': 'Aerthos'}]},\n",
       " {'description': 'O Reino de Solara é um reino desértico governado pelo Sultão Azir, um líder estratégico e diplomata experiente. Sua cultura valoriza a resiliência, a adaptação e a sabedoria ancestral, passada através de histórias e lendas. Os solares são hábeis comerciantes e sobreviventes, tendo construído um império próspero em um ambiente hostil. Sua história é marcada por grandes períodos de seca e prosperidade, forjando um povo perseverante e determinado.',\n",
       "  'name': 'Solara',\n",
       "  'world': 'Aerthos',\n",
       "  'towns': [{'description': 'Localizada em um oásis no meio do deserto escaldante, Pérola do Deserto é uma cidade fortificada com arquitetura imponente em tons de terracota.  Seu centro abriga um grande mercado onde se comercializam especiarias raras, tecidos finos e objetos mágicos. A cidade é conhecida por seu palácio luxuoso, onde reside o sultão, e pela grande biblioteca que guarda a história e os segredos de Solara. Sua história é repleta de lutas contra as areias implacáveis e invasores externos, forjando um povo resiliente e adaptável.',\n",
       "    'kingdom': 'Solara',\n",
       "    'name': 'Pérola do Deserto',\n",
       "    'world': 'Aerthos'},\n",
       "   {'description': 'Situada em um vale fértil próximo a uma cachoeira sagrada, a cidade de Águas Claras é uma região encantadora com casas construídas em madeira e pedra, cobertas de flores vibrantes. O local mais importante é o Templo da Água Viva, dedicado à deusa da água e onde residem os sacerdotes que cuidam da cachoeira. Conhecida por sua beleza natural e pela harmonia com a natureza, Águas Claras possui uma longa história de paz e prosperidade, interrompida apenas por eventos raros.',\n",
       "    'kingdom': 'Solara',\n",
       "    'name': 'Águas Claras',\n",
       "    'world': 'Aerthos'},\n",
       "   {'description': 'Construída sobre uma antiga ruína subterrânea, a cidade de Pedra Escura é uma metrópole labiríntica com uma atmosfera misteriosa. A cidade é famosa por suas minas de obsidiana e por sua arquitetura gótica, com torres pontiagudas que se erguem em direção ao céu. Os principais pontos são a Fortaleza da Obsidiana, que protege a cidade, e a Academia de Magia, um centro de estudos arcanos. Sua história é marcada por mistérios e segredos ancestrais, sempre envolvendo magia e poder.',\n",
       "    'kingdom': 'Solara',\n",
       "    'name': 'Pedra Escura',\n",
       "    'world': 'Aerthos'}]}]"
      ]
     },
     "execution_count": 187,
     "metadata": {},
     "output_type": "execute_result"
    }
   ],
   "source": [
    "kingdoms"
   ]
  },
  {
   "cell_type": "code",
   "execution_count": 188,
   "id": "711630a6",
   "metadata": {},
   "outputs": [
    {
     "data": {
      "text/plain": [
       "{'description': 'Situada no alto de uma cadeia de montanhas, Lumina é uma cidade de arquitetura deslumbrante, esculpida em rocha e cristal. Seu principal ponto de interesse é o Templo da Luz Eterna, um local de peregrinação para devotos de toda Aerthos.  A cidade abriga uma rica história, tendo resistido a inúmeros ataques ao longo dos séculos, graças à sua posição estratégica e magia protetora.',\n",
       " 'kingdom': 'Eldoria',\n",
       " 'name': 'Lumina',\n",
       " 'world': 'Aerthos'}"
      ]
     },
     "execution_count": 188,
     "metadata": {},
     "output_type": "execute_result"
    }
   ],
   "source": [
    "kingdoms[0]['towns'][0]"
   ]
  },
  {
   "cell_type": "code",
   "execution_count": 189,
   "id": "a11406fe",
   "metadata": {},
   "outputs": [
    {
     "name": "stdout",
     "output_type": "stream",
     "text": [
      "\n",
      "Town 1 Description: Situada no alto de uma cadeia de montanhas, Lumina é uma cidade de arquitetura deslumbrante, esculpida em rocha e cristal. Seu principal ponto de interesse é o Templo da Luz Eterna, um local de peregrinação para devotos de toda Aerthos.  A cidade abriga uma rica história, tendo resistido a inúmeros ataques ao longo dos séculos, graças à sua posição estratégica e magia protetora.\n"
     ]
    }
   ],
   "source": [
    "town = kingdoms[0]['towns'][0]\n",
    "print(f'\\nTown 1 Description: \\\n",
    "{town[\"description\"]}')"
   ]
  },
  {
   "cell_type": "markdown",
   "id": "fff397b4-3ac6-4737-a232-8e68df1471b0",
   "metadata": {},
   "source": [
    "## Generating Non-Player Characters (NPC's)"
   ]
  },
  {
   "cell_type": "code",
   "execution_count": 190,
   "id": "f31adacd-a37a-4de9-9be5-aadf56fff988",
   "metadata": {
    "height": 421
   },
   "outputs": [],
   "source": [
    "def get_npc_prompt(world, kingdom, town): \n",
    "    return f\"\"\"\n",
    "            Crie 3 personagens diferentes com base no mundo, reino e cidade em que estão. Descreva a aparência e a profissão do personagem, bem como suas dores e desejos mais profundos.\n",
    "\n",
    "            Saída do conteúdo no formato:\n",
    "            Nome do Personagem 1: <NOME DO PERSONAGEM>\n",
    "            Descrição do Personagem 1: <DESCRIÇÃO DO PERSONAGEM>\n",
    "            Nome do Personagem 2: <NOME DO PERSONAGEM>\n",
    "            Descrição do Personagem 2: <DESCRIÇÃO DO PERSONAGEM>\n",
    "            Nome do Personagem 3: <NOME DO PERSONAGEM>\n",
    "            Descrição do Personagem 3: <DESCRIÇÃO DO PERSONAGEM>\n",
    "\n",
    "            Nome do Mundo: {world['name']}\n",
    "            Descrição do Mundo: {world['description']}\n",
    "\n",
    "            Nome do Reino: {kingdom['name']}\n",
    "            Descrição do Reino: {kingdom['description']}\n",
    "\n",
    "            Nome da Cidade: {town['name']}\n",
    "            Descrição da Cidade: {town['description']}\n",
    "            \n",
    "            Nome do Personagem 1:\"\"\""
   ]
  },
  {
   "cell_type": "code",
   "execution_count": 191,
   "id": "a301bf4d-1f99-475b-ae88-4a05e7537e3f",
   "metadata": {
    "height": 523
   },
   "outputs": [],
   "source": [
    "def create_npcs(world, kingdom, town):\n",
    "    print(f'\\nCreating characters for the town of: {town[\"name\"]}...')\n",
    "    output = client.generate_content(get_npc_prompt(world, kingdom, town),generation_config=generate_config(SCHEMA_NPCS))\n",
    "    npcs = json.loads(output.text)\n",
    "    town[\"npcs\"] = npcs"
   ]
  },
  {
   "cell_type": "code",
   "execution_count": 194,
   "id": "36f0021d-41fa-4f3d-aed9-32d4fcb69dcb",
   "metadata": {
    "height": 98
   },
   "outputs": [
    {
     "name": "stdout",
     "output_type": "stream",
     "text": [
      "\n",
      "Creating characters for the town of: Lumina...\n"
     ]
    },
    {
     "ename": "ValueError",
     "evalue": "Invalid operation: The `response.text` quick accessor requires the response to contain a valid `Part`, but none were returned. The candidate's [finish_reason](https://ai.google.dev/api/generate-content#finishreason) is 7.",
     "output_type": "error",
     "traceback": [
      "\u001b[1;31m---------------------------------------------------------------------------\u001b[0m",
      "\u001b[1;31mValueError\u001b[0m                                Traceback (most recent call last)",
      "Cell \u001b[1;32mIn[194], line 3\u001b[0m\n\u001b[0;32m      1\u001b[0m \u001b[38;5;28;01mfor\u001b[39;00m kingdom \u001b[38;5;129;01min\u001b[39;00m kingdoms:\n\u001b[0;32m      2\u001b[0m     \u001b[38;5;28;01mfor\u001b[39;00m town \u001b[38;5;129;01min\u001b[39;00m kingdom[\u001b[38;5;124m'\u001b[39m\u001b[38;5;124mtowns\u001b[39m\u001b[38;5;124m'\u001b[39m]:\n\u001b[1;32m----> 3\u001b[0m         \u001b[43mcreate_npcs\u001b[49m\u001b[43m(\u001b[49m\u001b[43mworld\u001b[49m\u001b[43m,\u001b[49m\u001b[43m \u001b[49m\u001b[43mkingdom\u001b[49m\u001b[43m,\u001b[49m\u001b[43m \u001b[49m\u001b[43mtown\u001b[49m\u001b[43m)\u001b[49m\n\u001b[0;32m      4\u001b[0m   \u001b[38;5;66;03m# For now we'll only generate npcs for one kingdom\u001b[39;00m\n\u001b[0;32m      5\u001b[0m     \u001b[38;5;28;01mbreak\u001b[39;00m\n",
      "Cell \u001b[1;32mIn[191], line 4\u001b[0m, in \u001b[0;36mcreate_npcs\u001b[1;34m(world, kingdom, town)\u001b[0m\n\u001b[0;32m      2\u001b[0m \u001b[38;5;28mprint\u001b[39m(\u001b[38;5;124mf\u001b[39m\u001b[38;5;124m'\u001b[39m\u001b[38;5;130;01m\\n\u001b[39;00m\u001b[38;5;124mCreating characters for the town of: \u001b[39m\u001b[38;5;132;01m{\u001b[39;00mtown[\u001b[38;5;124m\"\u001b[39m\u001b[38;5;124mname\u001b[39m\u001b[38;5;124m\"\u001b[39m]\u001b[38;5;132;01m}\u001b[39;00m\u001b[38;5;124m...\u001b[39m\u001b[38;5;124m'\u001b[39m)\n\u001b[0;32m      3\u001b[0m output \u001b[38;5;241m=\u001b[39m client\u001b[38;5;241m.\u001b[39mgenerate_content(get_npc_prompt(world, kingdom, town),generation_config\u001b[38;5;241m=\u001b[39mgenerate_config(SCHEMA_NPCS))\n\u001b[1;32m----> 4\u001b[0m npcs \u001b[38;5;241m=\u001b[39m json\u001b[38;5;241m.\u001b[39mloads(\u001b[43moutput\u001b[49m\u001b[38;5;241;43m.\u001b[39;49m\u001b[43mtext\u001b[49m)\n\u001b[0;32m      5\u001b[0m town[\u001b[38;5;124m\"\u001b[39m\u001b[38;5;124mnpcs\u001b[39m\u001b[38;5;124m\"\u001b[39m] \u001b[38;5;241m=\u001b[39m npcs\n",
      "File \u001b[1;32md:\\_dev_ssd\\falkor-storyteller\\venv_falkor\\Lib\\site-packages\\google\\generativeai\\types\\generation_types.py:497\u001b[0m, in \u001b[0;36mBaseGenerateContentResponse.text\u001b[1;34m(self)\u001b[0m\n\u001b[0;32m    495\u001b[0m     \u001b[38;5;28;01mraise\u001b[39;00m \u001b[38;5;167;01mValueError\u001b[39;00m(msg)\n\u001b[0;32m    496\u001b[0m \u001b[38;5;28;01melif\u001b[39;00m fr \u001b[38;5;129;01mis\u001b[39;00m FinishReason\u001b[38;5;241m.\u001b[39mBLOCKLIST:\n\u001b[1;32m--> 497\u001b[0m     \u001b[38;5;28;01mraise\u001b[39;00m \u001b[38;5;167;01mValueError\u001b[39;00m(msg)\n\u001b[0;32m    498\u001b[0m \u001b[38;5;28;01melif\u001b[39;00m fr \u001b[38;5;129;01mis\u001b[39;00m FinishReason\u001b[38;5;241m.\u001b[39mPROHIBITED_CONTENT:\n\u001b[0;32m    499\u001b[0m     \u001b[38;5;28;01mraise\u001b[39;00m \u001b[38;5;167;01mValueError\u001b[39;00m(msg)\n",
      "\u001b[1;31mValueError\u001b[0m: Invalid operation: The `response.text` quick accessor requires the response to contain a valid `Part`, but none were returned. The candidate's [finish_reason](https://ai.google.dev/api/generate-content#finishreason) is 7."
     ]
    }
   ],
   "source": [
    "for kingdom in kingdoms:\n",
    "    for town in kingdom['towns']:\n",
    "        create_npcs(world, kingdom, town)\n",
    "  # For now we'll only generate npcs for one kingdom\n",
    "    break"
   ]
  },
  {
   "cell_type": "code",
   "execution_count": 170,
   "id": "1be97afc",
   "metadata": {},
   "outputs": [
    {
     "data": {
      "text/plain": [
       "{'description': 'Situada numa região montanhosa de Eldoria,  esta cidade é um centro de aprendizado e magia. A Academia Arcana, uma renomada instituição de ensino de magia natural, é a principal atração. As Ruínas de Aeridor, uma antiga cidade élfica, guardam segredos e perigos ocultos.   A cidade é relativamente jovem, fundada há cinco séculos por estudiosos élficos que buscavam um local tranquilo para aprofundar seus estudos.',\n",
       " 'kingdom': 'Eldoria',\n",
       " 'name': 'Aerilon',\n",
       " 'world': 'Atheria'}"
      ]
     },
     "execution_count": 170,
     "metadata": {},
     "output_type": "execute_result"
    }
   ],
   "source": [
    "town"
   ]
  },
  {
   "cell_type": "code",
   "execution_count": 169,
   "id": "e95294cc-ee92-430d-ad48-e95852784851",
   "metadata": {
    "height": 81
   },
   "outputs": [
    {
     "ename": "KeyError",
     "evalue": "'npcs'",
     "output_type": "error",
     "traceback": [
      "\u001b[1;31m---------------------------------------------------------------------------\u001b[0m",
      "\u001b[1;31mKeyError\u001b[0m                                  Traceback (most recent call last)",
      "Cell \u001b[1;32mIn[169], line 1\u001b[0m\n\u001b[1;32m----> 1\u001b[0m npc \u001b[38;5;241m=\u001b[39m \u001b[38;5;28mlist\u001b[39m(\u001b[43mtown\u001b[49m\u001b[43m[\u001b[49m\u001b[38;5;124;43m'\u001b[39;49m\u001b[38;5;124;43mnpcs\u001b[39;49m\u001b[38;5;124;43m'\u001b[39;49m\u001b[43m]\u001b[49m\u001b[38;5;241m.\u001b[39mvalues())[\u001b[38;5;241m0\u001b[39m]\n\u001b[0;32m      3\u001b[0m \u001b[38;5;28mprint\u001b[39m(\u001b[38;5;124mf\u001b[39m\u001b[38;5;124m'\u001b[39m\u001b[38;5;130;01m\\n\u001b[39;00m\u001b[38;5;124mNPC 1 in \u001b[39m\u001b[38;5;132;01m{\u001b[39;00mtown[\u001b[38;5;124m\"\u001b[39m\u001b[38;5;124mname\u001b[39m\u001b[38;5;124m\"\u001b[39m]\u001b[38;5;132;01m}\u001b[39;00m\u001b[38;5;124m, \u001b[39m\u001b[38;5;130;01m\\\u001b[39;00m\n\u001b[0;32m      4\u001b[0m \u001b[38;5;132;01m{\u001b[39;00mkingdom[\u001b[38;5;124m\"\u001b[39m\u001b[38;5;124mname\u001b[39m\u001b[38;5;124m\"\u001b[39m]\u001b[38;5;132;01m}\u001b[39;00m\u001b[38;5;124m:\u001b[39m\u001b[38;5;130;01m\\n\u001b[39;00m\u001b[38;5;132;01m{\u001b[39;00mnpc[\u001b[38;5;124m\"\u001b[39m\u001b[38;5;124mdescription\u001b[39m\u001b[38;5;124m\"\u001b[39m]\u001b[38;5;132;01m}\u001b[39;00m\u001b[38;5;124m'\u001b[39m)\n",
      "\u001b[1;31mKeyError\u001b[0m: 'npcs'"
     ]
    }
   ],
   "source": [
    "npc = list(town['npcs'].values())[0]\n",
    "\n",
    "print(f'\\nNPC 1 in {town[\"name\"]}, \\\n",
    "{kingdom[\"name\"]}:\\n{npc[\"description\"]}')"
   ]
  },
  {
   "cell_type": "markdown",
   "id": "764a433b-5e04-4980-a9b0-4d336113f072",
   "metadata": {},
   "source": [
    "## Save the World\n",
    ">Note: You will save your world state to a file different than the one shown in the video to allow future lessons to be consistent with the video. If later wish to build your own worlds, you will want to load your file rather than the saved file."
   ]
  },
  {
   "cell_type": "code",
   "execution_count": null,
   "id": "2dce3195-2c76-42da-9e49-c7a17e5ab08b",
   "metadata": {
    "height": 217
   },
   "outputs": [],
   "source": [
    "import json\n",
    "\n",
    "def save_world(world, filename):\n",
    "    with open(filename, 'w') as f:\n",
    "        json.dump(world, f)\n",
    "\n",
    "def load_world(filename):\n",
    "    with open(filename, 'r') as f:\n",
    "        return json.load(f)\n",
    "\n",
    "#save_world(world, '../shared_data/Kyropeia.json')\n",
    "save_world(world, '../shared_data/YourWorld_L1.json') #save to your version"
   ]
  },
  {
   "cell_type": "code",
   "execution_count": null,
   "id": "f64fc076-32b5-41ca-b755-6ccbd52347c0",
   "metadata": {
    "height": 30
   },
   "outputs": [],
   "source": []
  }
 ],
 "metadata": {
  "kernelspec": {
   "display_name": "venv_falkor",
   "language": "python",
   "name": "python3"
  },
  "language_info": {
   "codemirror_mode": {
    "name": "ipython",
    "version": 3
   },
   "file_extension": ".py",
   "mimetype": "text/x-python",
   "name": "python",
   "nbconvert_exporter": "python",
   "pygments_lexer": "ipython3",
   "version": "3.12.0"
  }
 },
 "nbformat": 4,
 "nbformat_minor": 5
}
